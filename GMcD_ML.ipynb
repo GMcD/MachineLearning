{
  "nbformat": 4,
  "nbformat_minor": 0,
  "metadata": {
    "colab": {
      "name": "GMcD-ML.ipynb",
      "provenance": [],
      "collapsed_sections": []
    },
    "kernelspec": {
      "name": "python3",
      "display_name": "Python 3"
    }
  },
  "cells": [
    {
      "cell_type": "code",
      "metadata": {
        "id": "jr-ta1RKLvFd",
        "colab_type": "code",
        "colab": {
          "base_uri": "https://localhost:8080/",
          "height": 241
        },
        "outputId": "5b3cae37-9fb8-44ce-bf92-876d1289f62e"
      },
      "source": [
        "!pip install git+git://github.com/GMcD/MachineLearning.git@v0.3\n",
        "from gmcdml.app import hello\n",
        "hello.hi()\n"
      ],
      "execution_count": 7,
      "outputs": [
        {
          "output_type": "stream",
          "text": [
            "Collecting git+git://github.com/GMcD/MachineLearning.git@v0.3\n",
            "  Cloning git://github.com/GMcD/MachineLearning.git (to revision v0.3) to /tmp/pip-req-build-waun0l59\n",
            "  Running command git clone -q git://github.com/GMcD/MachineLearning.git /tmp/pip-req-build-waun0l59\n",
            "  Running command git checkout -q 9d7f28948e06ae98e0344821434209b292e361b0\n",
            "Requirement already satisfied (use --upgrade to upgrade): gmcd-ml==0.3 from git+git://github.com/GMcD/MachineLearning.git@v0.3 in /usr/local/lib/python3.6/dist-packages\n",
            "Building wheels for collected packages: gmcd-ml\n",
            "  Building wheel for gmcd-ml (setup.py) ... \u001b[?25l\u001b[?25hdone\n",
            "  Created wheel for gmcd-ml: filename=gmcd_ml-0.3-cp36-none-any.whl size=2358 sha256=c479d6fbddd56d3efb4574c64b5ed662072ab8842b6c3e3f82378e65ff70723f\n",
            "  Stored in directory: /tmp/pip-ephem-wheel-cache-hr_bpw0b/wheels/85/18/13/3a5c3a322d49b0034fccfe1fdb80d9b4fef958f302480b6970\n",
            "Successfully built gmcd-ml\n",
            "3.6.9 (default, Nov  7 2019, 10:44:02) \n",
            "[GCC 8.3.0]\n"
          ],
          "name": "stdout"
        }
      ]
    },
    {
      "cell_type": "markdown",
      "metadata": {
        "id": "axSRF1TmUHgC",
        "colab_type": "text"
      },
      "source": [
        "The MachineLearning repository contains a Convulated Neural Network.\n"
      ]
    }
  ]
}