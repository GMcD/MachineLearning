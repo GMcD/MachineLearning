{
  "nbformat": 4,
  "nbformat_minor": 0,
  "metadata": {
    "colab": {
      "name": "GMcD-ML.ipynb",
      "provenance": [],
      "collapsed_sections": [],
      "include_colab_link": true
    },
    "kernelspec": {
      "name": "python3",
      "display_name": "Python 3"
    }
  },
  "cells": [
    {
      "cell_type": "markdown",
      "metadata": {
        "id": "view-in-github",
        "colab_type": "text"
      },
      "source": [
        "<a href=\"https://colab.research.google.com/github/GMcD/MachineLearning/blob/master/GMcD_ML.ipynb\" target=\"_parent\"><img src=\"https://colab.research.google.com/assets/colab-badge.svg\" alt=\"Open In Colab\"/></a>"
      ]
    },
    {
      "cell_type": "code",
      "metadata": {
        "id": "jr-ta1RKLvFd",
        "colab_type": "code",
        "colab": {}
      },
      "source": [
        "%tensorflow_version 2.x\n",
        "!pip install git+git://github.com/GMcD/MachineLearning.git@v0.9.15\n",
        "\n",
        "from gmcdml.app.vehicle import VehicleNet\n",
        "vn = VehicleNet(clearstate=True)\n",
        "\n",
        "vn.trainAndReport(1)\n",
        "vn.trainAndReport(1)\n",
        "\n",
        "%load_ext tensorboard\n",
        "%tensorboard --logdir='/content/runs'\n"
      ],
      "execution_count": 0,
      "outputs": []
    },
    {
      "cell_type": "markdown",
      "metadata": {
        "id": "axSRF1TmUHgC",
        "colab_type": "text"
      },
      "source": [
        "The MachineLearning repository contains a simple Convolutional Neural Network to classify the CIFAR-10 database of simple images.\n"
      ]
    }
  ]
}
